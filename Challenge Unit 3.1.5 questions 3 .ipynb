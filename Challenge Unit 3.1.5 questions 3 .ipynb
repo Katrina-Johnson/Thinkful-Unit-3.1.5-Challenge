{
 "cells": [
  {
   "cell_type": "code",
   "execution_count": 1,
   "metadata": {},
   "outputs": [],
   "source": [
    "import numpy as np\n",
    "import pandas as pd\n",
    "import statistics\n",
    "import matplotlib as mtpl\n",
    "import matplotlib.pyplot\n",
    "%matplotlib inline"
   ]
  },
  {
   "cell_type": "markdown",
   "metadata": {},
   "source": [
    "Question 3: Next, Cindy has a birthday. Update your estimates- what changed, and what didn't?"
   ]
  },
  {
   "cell_type": "markdown",
   "metadata": {},
   "source": [
    "Mean Calculation Options:"
   ]
  },
  {
   "cell_type": "code",
   "execution_count": 2,
   "metadata": {
    "scrolled": true
   },
   "outputs": [
    {
     "data": {
      "text/plain": [
       "11.2"
      ]
     },
     "execution_count": 2,
     "metadata": {},
     "output_type": "execute_result"
    }
   ],
   "source": [
    "#formula: mean = sum(x) / n\n",
    "mean = (14 + 12 + 11 + 11 + 8) / 5\n",
    "mean"
   ]
  },
  {
   "cell_type": "code",
   "execution_count": 3,
   "metadata": {
    "scrolled": true
   },
   "outputs": [
    {
     "data": {
      "text/plain": [
       "11.2"
      ]
     },
     "execution_count": 3,
     "metadata": {},
     "output_type": "execute_result"
    }
   ],
   "source": [
    "#Using Python: mean = sum(df['age']) / len(df['age'])\n",
    "\n",
    "names = ['Greg','Marcia','Peter', 'Jan','Bobby', 'Cindy','Oliver']\n",
    "ages = [14, 12, 11, 11, 8]\n",
    "         \n",
    "mean = sum(ages) / len(ages)\n",
    "mean\n"
   ]
  },
  {
   "cell_type": "code",
   "execution_count": 4,
   "metadata": {},
   "outputs": [
    {
     "data": {
      "text/plain": [
       "11.2"
      ]
     },
     "execution_count": 4,
     "metadata": {},
     "output_type": "execute_result"
    }
   ],
   "source": [
    "#Using Numpy:\n",
    "mean = np.mean(ages)\n",
    "mean\n"
   ]
  },
  {
   "cell_type": "markdown",
   "metadata": {},
   "source": [
    "Median Calculation Options:"
   ]
  },
  {
   "cell_type": "code",
   "execution_count": 5,
   "metadata": {},
   "outputs": [
    {
     "name": "stdout",
     "output_type": "stream",
     "text": [
      "4.5\n",
      "6.0\n",
      "6.0\n",
      "6.5\n",
      "7.5\n"
     ]
    }
   ],
   "source": [
    "#Median\n",
    "#formula: step 1. Order the numbers from smallest to largest.  step 2. (n+1) / 2\n",
    "\n",
    "for age in ages:\n",
    "\n",
    "    ages = [int(age) for age in ages]\n",
    "    ages.sort()\n",
    "    ages.sort()\n",
    "    \n",
    "#Below is my guess\n",
    "#Question for Mike:\n",
    "ages.sort()\n",
    "\n",
    "for age in ages:\n",
    "\n",
    "    median = ((age) + 1) / 2\n",
    "    print(median)"
   ]
  },
  {
   "cell_type": "code",
   "execution_count": 6,
   "metadata": {},
   "outputs": [
    {
     "data": {
      "text/plain": [
       "11"
      ]
     },
     "execution_count": 6,
     "metadata": {},
     "output_type": "execute_result"
    }
   ],
   "source": [
    "#Using the Python Statistics library\n",
    "median = statistics.median(ages)\n",
    "median"
   ]
  },
  {
   "cell_type": "code",
   "execution_count": 7,
   "metadata": {},
   "outputs": [
    {
     "data": {
      "text/plain": [
       "11.0"
      ]
     },
     "execution_count": 7,
     "metadata": {},
     "output_type": "execute_result"
    }
   ],
   "source": [
    "#Using Numpy\n",
    "np.median(ages)"
   ]
  },
  {
   "cell_type": "markdown",
   "metadata": {},
   "source": [
    "Mode Calculation Options:"
   ]
  },
  {
   "cell_type": "code",
   "execution_count": 13,
   "metadata": {},
   "outputs": [
    {
     "data": {
      "text/plain": [
       "11"
      ]
     },
     "execution_count": 13,
     "metadata": {},
     "output_type": "execute_result"
    }
   ],
   "source": [
    "#Code:\n",
    "#From the Statistics library use: statistics.mode(ages)\n",
    "\n",
    "statistics.mode(ages)\n"
   ]
  },
  {
   "cell_type": "markdown",
   "metadata": {},
   "source": [
    "Variance Calculation Options:"
   ]
  },
  {
   "cell_type": "code",
   "execution_count": 8,
   "metadata": {},
   "outputs": [
    {
     "data": {
      "text/plain": [
       "4.75"
      ]
     },
     "execution_count": 8,
     "metadata": {},
     "output_type": "execute_result"
    }
   ],
   "source": [
    "#v=sum(x-mean) ** 2 / (n-1)\n",
    "ls =[]\n",
    "for age in ages:\n",
    "\n",
    "    ls.append((age - 11)**2)\n",
    "\n",
    "variance = sum(ls) / ((len(ages)) - 1)\n",
    "variance"
   ]
  },
  {
   "cell_type": "markdown",
   "metadata": {},
   "source": [
    "Standard Deviation Calculattion: "
   ]
  },
  {
   "cell_type": "code",
   "execution_count": 9,
   "metadata": {},
   "outputs": [
    {
     "data": {
      "text/plain": [
       "2.179449471770337"
      ]
     },
     "execution_count": 9,
     "metadata": {},
     "output_type": "execute_result"
    }
   ],
   "source": [
    "#Standard Deviation: s = v ** 0.5\n",
    "standard_deviation = variance ** 0.5\n",
    "standard_deviation"
   ]
  },
  {
   "cell_type": "code",
   "execution_count": 10,
   "metadata": {},
   "outputs": [
    {
     "data": {
      "text/plain": [
       "2.16794833886788"
      ]
     },
     "execution_count": 10,
     "metadata": {},
     "output_type": "execute_result"
    }
   ],
   "source": [
    "#Numpy Standard Deviation method:\n",
    "np.std((ages), ddof = 1)"
   ]
  },
  {
   "cell_type": "markdown",
   "metadata": {},
   "source": [
    "Standard Error Calculation:"
   ]
  },
  {
   "cell_type": "code",
   "execution_count": 11,
   "metadata": {},
   "outputs": [
    {
     "data": {
      "text/plain": [
       "0.9746794344808964"
      ]
     },
     "execution_count": 11,
     "metadata": {},
     "output_type": "execute_result"
    }
   ],
   "source": [
    "#se = s / (n ** 0.5)\n",
    "#Note: s represents the sample\n",
    "standard_error = standard_deviation / (len(ages) ** 0.5)\n",
    "standard_error"
   ]
  },
  {
   "cell_type": "code",
   "execution_count": 12,
   "metadata": {},
   "outputs": [
    {
     "data": {
      "text/plain": [
       "0.9695359714832658"
      ]
     },
     "execution_count": 12,
     "metadata": {},
     "output_type": "execute_result"
    }
   ],
   "source": [
    "#np.std(df['age'] ,ddof=1) / np.sqrt(len(df['age']))\n",
    "np.std(ages, ddof=1) / np.sqrt(len(ages))"
   ]
  },
  {
   "cell_type": "markdown",
   "metadata": {},
   "source": [
    "Question 3 Response: \n",
    "Observations:\n",
    "\n",
    "Changes in Central Tendency Values: \n",
    "Mean: The median has increased by 0.2, and is now 11.2.\n",
    "Median: The meidan remains 11.0.\n",
    "Mode: There is now a mode.  11 is the mode. \n",
    "\n",
    "Changes in Variance Values:\n",
    "Variance: The variance has increased by 0.25, and is not 4.75.\n",
    "\n",
    "Standard Deviation: The standard deviation without a ddof = 1 increased by 0.4473986642014598. (Is this answer wrong?  Should the ddof always be addes.  This result seems problematic.\n",
    "                    \n",
    "The standard deviation with ddof = 1 decreased by 0.06811963863190984.  This is due to the fact that now that two of the five numbers appears twice, the values are not scatterd as broadly as they were when no number appeared twice.  Therefore, there is less deviation between values. \n",
    "\n",
    "Standard Error: The standard error without ddof = 1 has increased by 0.20008276523941315.\n",
    "\n",
    "The standard error with ddof = 1 has decreased by 0.030464028516734243."
   ]
  },
  {
   "cell_type": "markdown",
   "metadata": {},
   "source": [
    "\n",
    "\n"
   ]
  },
  {
   "cell_type": "markdown",
   "metadata": {},
   "source": [
    "Question 3, Response\n",
    "\n",
    "Conclusions:\n",
    "\n",
    "Mean: Because the sum of (ages) only increased by 1. the mean was not greatly impacted.\n",
    "\n",
    "Median: The median was not impacted at all by the addition of a value of 11, due to the fact that a value of 11 was already the middle value in the data set.  \n",
    "\n",
    "Mode: Because the original data set did not contain a repeated value, the replacement of 10 with 11 created a data set which contained the value of 11 in two positions or elements.  This change, therefore, allowed for a mode, and had a significant impact on the mode, allowing it to became an applicable measure of central tendency for the data set in question.\n",
    "\n",
    "Variance: The variance has increased by 0.25, because now, we have a large gap between two of our values (i.e. a larger gap in the spread of the value, becaue ther is a greater distance between 8 and 11 than their is between 8 and 10.\n",
    "\n",
    "Standard Deviation:  Consequently, as the standard deviation is simply a restatement of the variance in a different units of measurement between the data points (namely a unit that is not squared) the standard deviation may also be observed to have increased.  \n",
    "\n",
    "However, if ddof = 1 is added to the calculation of standard deviation, the resulting value is greater than the original value.\n",
    "\n",
    "Standard Error:  The pattern can seen in standard error when comparing values for quetion 1 and question 2.  The standard error (which is useful in that, when given multiple sets of data, it finds the mean of the means and based on this measurement provides an average standard deviation) presents the same pattern.  The value decreases, unless the ddof = 1 is added to the calculation, in which case the value increases. \n",
    "\n"
   ]
  },
  {
   "cell_type": "markdown",
   "metadata": {},
   "source": [
    "Questions:  \n",
    "\n",
    "1. Should ddof = 1 always be part of any calcultion of standard deviation and consequently of standard error?  \n",
    "\n",
    "2. Does the ddof change depending on how many sample measurements (i.e. data sets) a data scientist is evaluating?\n"
   ]
  }
 ],
 "metadata": {
  "kernelspec": {
   "display_name": "Python 3",
   "language": "python",
   "name": "python3"
  },
  "language_info": {
   "codemirror_mode": {
    "name": "ipython",
    "version": 3
   },
   "file_extension": ".py",
   "mimetype": "text/x-python",
   "name": "python",
   "nbconvert_exporter": "python",
   "pygments_lexer": "ipython3",
   "version": "3.7.0"
  }
 },
 "nbformat": 4,
 "nbformat_minor": 2
}
