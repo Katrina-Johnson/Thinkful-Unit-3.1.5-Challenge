{
 "cells": [
  {
   "cell_type": "code",
   "execution_count": 1,
   "metadata": {},
   "outputs": [],
   "source": [
    "import numpy as np\n",
    "import pandas as pd\n",
    "import statistics\n",
    "import matplotlib as mtpl\n",
    "import matplotlib.pyplot\n",
    "%matplotlib inline"
   ]
  },
  {
   "cell_type": "markdown",
   "metadata": {},
   "source": [
    "Question 4: Nobody likes Cousin Oliver. Maybe the network should have used an even younger actor. Replace Cousin Oliver with 1-year-old Jessica, then recalculate again. Does this change your choice of central tendency or variance estimation methods?"
   ]
  },
  {
   "cell_type": "markdown",
   "metadata": {},
   "source": [
    "Mean Calculation Options:"
   ]
  },
  {
   "cell_type": "code",
   "execution_count": 2,
   "metadata": {
    "scrolled": true
   },
   "outputs": [
    {
     "data": {
      "text/plain": [
       "9.8"
      ]
     },
     "execution_count": 2,
     "metadata": {},
     "output_type": "execute_result"
    }
   ],
   "source": [
    "#formula: mean = sum(x) / n\n",
    "mean = (14 + 12 + 11 + 11 + 1) / 5\n",
    "mean"
   ]
  },
  {
   "cell_type": "code",
   "execution_count": 3,
   "metadata": {
    "scrolled": true
   },
   "outputs": [
    {
     "data": {
      "text/plain": [
       "9.8"
      ]
     },
     "execution_count": 3,
     "metadata": {},
     "output_type": "execute_result"
    }
   ],
   "source": [
    "#Using Python: mean = sum(df['age']) / len(df['age'])\n",
    "\n",
    "names = ['Greg','Marcia','Peter', 'Jan','Bobby', 'Cindy','Oliver']\n",
    "ages = [14, 12, 11, 11, 1]\n",
    "         \n",
    "mean = sum(ages) / len(ages)\n",
    "mean\n"
   ]
  },
  {
   "cell_type": "code",
   "execution_count": 4,
   "metadata": {},
   "outputs": [
    {
     "data": {
      "text/plain": [
       "9.8"
      ]
     },
     "execution_count": 4,
     "metadata": {},
     "output_type": "execute_result"
    }
   ],
   "source": [
    "#Using Numpy:\n",
    "mean = np.mean(ages)\n",
    "mean\n"
   ]
  },
  {
   "cell_type": "markdown",
   "metadata": {},
   "source": [
    "Median Calculation Options:"
   ]
  },
  {
   "cell_type": "code",
   "execution_count": 5,
   "metadata": {},
   "outputs": [
    {
     "name": "stdout",
     "output_type": "stream",
     "text": [
      "1.0\n",
      "6.0\n",
      "6.0\n",
      "6.5\n",
      "7.5\n"
     ]
    }
   ],
   "source": [
    "#Median\n",
    "#formula: step 1. Order the numbers from smallest to largest.  step 2. (n+1) / 2\n",
    "\n",
    "for age in ages:\n",
    "\n",
    "    ages = [int(age) for age in ages]\n",
    "    ages.sort()\n",
    "    ages.sort()\n",
    "    \n",
    "#Below is my guess\n",
    "#Question for Mike:\n",
    "ages.sort()\n",
    "\n",
    "for age in ages:\n",
    "\n",
    "    median = ((age) + 1) / 2\n",
    "    print(median)"
   ]
  },
  {
   "cell_type": "code",
   "execution_count": 6,
   "metadata": {},
   "outputs": [
    {
     "data": {
      "text/plain": [
       "11"
      ]
     },
     "execution_count": 6,
     "metadata": {},
     "output_type": "execute_result"
    }
   ],
   "source": [
    "#Using the Python Statistics library\n",
    "median = statistics.median(ages)\n",
    "median"
   ]
  },
  {
   "cell_type": "code",
   "execution_count": 7,
   "metadata": {},
   "outputs": [
    {
     "data": {
      "text/plain": [
       "11.0"
      ]
     },
     "execution_count": 7,
     "metadata": {},
     "output_type": "execute_result"
    }
   ],
   "source": [
    "#Using Numpy\n",
    "np.median(ages)"
   ]
  },
  {
   "cell_type": "markdown",
   "metadata": {},
   "source": [
    "Mode Calculation Options:"
   ]
  },
  {
   "cell_type": "code",
   "execution_count": 8,
   "metadata": {},
   "outputs": [
    {
     "data": {
      "text/plain": [
       "11"
      ]
     },
     "execution_count": 8,
     "metadata": {},
     "output_type": "execute_result"
    }
   ],
   "source": [
    "#Code:\n",
    "#From the Statistics library use: statistics.mode(ages)\n",
    "\n",
    "statistics.mode(ages)\n"
   ]
  },
  {
   "cell_type": "markdown",
   "metadata": {},
   "source": [
    "Variance Calculation Options:"
   ]
  },
  {
   "cell_type": "code",
   "execution_count": 9,
   "metadata": {},
   "outputs": [
    {
     "data": {
      "text/plain": [
       "27.5"
      ]
     },
     "execution_count": 9,
     "metadata": {},
     "output_type": "execute_result"
    }
   ],
   "source": [
    "#v=sum(x-mean) ** 2 / (n-1)\n",
    "ls =[]\n",
    "for age in ages:\n",
    "\n",
    "    ls.append((age - 11)**2)\n",
    "\n",
    "variance = sum(ls) / ((len(ages)) - 1)\n",
    "variance"
   ]
  },
  {
   "cell_type": "markdown",
   "metadata": {},
   "source": [
    "Standard Deviation Calculattion: "
   ]
  },
  {
   "cell_type": "code",
   "execution_count": 10,
   "metadata": {},
   "outputs": [
    {
     "data": {
      "text/plain": [
       "5.244044240850758"
      ]
     },
     "execution_count": 10,
     "metadata": {},
     "output_type": "execute_result"
    }
   ],
   "source": [
    "#Standard Deviation: s = v ** 0.5\n",
    "standard_deviation = variance ** 0.5\n",
    "standard_deviation"
   ]
  },
  {
   "cell_type": "code",
   "execution_count": 11,
   "metadata": {},
   "outputs": [
    {
     "data": {
      "text/plain": [
       "5.06951674225463"
      ]
     },
     "execution_count": 11,
     "metadata": {},
     "output_type": "execute_result"
    }
   ],
   "source": [
    "#Numpy Standard Deviation method:\n",
    "np.std((ages), ddof = 1)"
   ]
  },
  {
   "cell_type": "markdown",
   "metadata": {},
   "source": [
    "Standard Error Calculation:"
   ]
  },
  {
   "cell_type": "code",
   "execution_count": 12,
   "metadata": {},
   "outputs": [
    {
     "data": {
      "text/plain": [
       "2.345207879911715"
      ]
     },
     "execution_count": 12,
     "metadata": {},
     "output_type": "execute_result"
    }
   ],
   "source": [
    "#se = s / (n ** 0.5)\n",
    "#Note: s represents the sample\n",
    "standard_error = standard_deviation / (len(ages) ** 0.5)\n",
    "standard_error"
   ]
  },
  {
   "cell_type": "code",
   "execution_count": 13,
   "metadata": {},
   "outputs": [
    {
     "data": {
      "text/plain": [
       "2.2671568097509267"
      ]
     },
     "execution_count": 13,
     "metadata": {},
     "output_type": "execute_result"
    }
   ],
   "source": [
    "#np.std(df['age'] ,ddof=1) / np.sqrt(len(df['age']))\n",
    "np.std(ages, ddof=1) / np.sqrt(len(ages))"
   ]
  },
  {
   "cell_type": "markdown",
   "metadata": {},
   "source": [
    "Question 4, Response\n",
    "\n",
    "Instead of focusing on the mean and the standard deviation, I would focus on the median and the standard deviation, when describing this data set.\n",
    "\n",
    "I would use the median, because the replacement of 8 with 1 created a data set with a significant outlier, thereby resulting  in a mean that does not replect the relationship of the majority of values in the data set. Whereas, the mean may be said to provide a more consistent and reflection of the relationship of one data point to another.  (If I did not have to choose one measure of central tendency, I would use both the mean and the meadian, and talk about how the outlier impacts or does not impact these values, and whether or not this impact is relevant to the goals of the study.)\n",
    "\n",
    "I would choose to describe the standard deviation, because it presents the degree of difference between each data point in a unit of measurement that is not squared, and is therefore likely to be easier for target audienced to understand than variance, which presents the same units, only squared.  It is also easier of me the data scientist to work with the non or unsquared units.  I would also choose to work with the standard deviation, because I am only describing one set of measurements. Were I describing multiple sets of differing measurements, I would use the standard error, which describes the average mean of a set of means, and derives the standard deviation based on that value."
   ]
  }
 ],
 "metadata": {
  "kernelspec": {
   "display_name": "Python 3",
   "language": "python",
   "name": "python3"
  },
  "language_info": {
   "codemirror_mode": {
    "name": "ipython",
    "version": 3
   },
   "file_extension": ".py",
   "mimetype": "text/x-python",
   "name": "python",
   "nbconvert_exporter": "python",
   "pygments_lexer": "ipython3",
   "version": "3.7.0"
  }
 },
 "nbformat": 4,
 "nbformat_minor": 2
}
